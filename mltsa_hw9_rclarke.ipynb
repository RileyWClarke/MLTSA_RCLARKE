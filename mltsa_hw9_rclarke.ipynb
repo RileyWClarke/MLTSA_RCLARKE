{
  "nbformat": 4,
  "nbformat_minor": 0,
  "metadata": {
    "colab": {
      "name": "mltsa_hw9_rclarke.ipynb",
      "provenance": [],
      "authorship_tag": "ABX9TyO7J7oNIaO3Wri4G349NLTH",
      "include_colab_link": true
    },
    "kernelspec": {
      "name": "python3",
      "display_name": "Python 3"
    }
  },
  "cells": [
    {
      "cell_type": "markdown",
      "metadata": {
        "id": "view-in-github",
        "colab_type": "text"
      },
      "source": [
        "<a href=\"https://colab.research.google.com/github/RileyWClarke/MLTSA_RClarke/blob/master/mltsa_hw9_rclarke.ipynb\" target=\"_parent\"><img src=\"https://colab.research.google.com/assets/colab-badge.svg\" alt=\"Open In Colab\"/></a>"
      ]
    },
    {
      "cell_type": "code",
      "metadata": {
        "id": "oAxAC0I5IcqF",
        "colab_type": "code",
        "colab": {}
      },
      "source": [
        "from matplotlib import pyplot as plt\n",
        "from matplotlib.colors import Normalize\n",
        "import numpy as np\n",
        "import pandas as pd\n",
        "% matplotlib inline"
      ],
      "execution_count": 0,
      "outputs": []
    },
    {
      "cell_type": "code",
      "metadata": {
        "id": "uvSw6MpDI_6J",
        "colab_type": "code",
        "colab": {}
      },
      "source": [
        "plt.style.use(\"https://raw.githubusercontent.com/fedhere/MLTSA_FBianco/master/fbb.mplstyle\")"
      ],
      "execution_count": 0,
      "outputs": []
    },
    {
      "cell_type": "code",
      "metadata": {
        "id": "7DSB4TkDJCPN",
        "colab_type": "code",
        "colab": {
          "base_uri": "https://localhost:8080/",
          "height": 204
        },
        "outputId": "d725942a-a1af-445c-c790-660f026d4179"
      },
      "source": [
        "!pip install kaggle"
      ],
      "execution_count": 3,
      "outputs": [
        {
          "output_type": "stream",
          "text": [
            "Requirement already satisfied: kaggle in /usr/local/lib/python3.6/dist-packages (1.5.6)\n",
            "Requirement already satisfied: requests in /usr/local/lib/python3.6/dist-packages (from kaggle) (2.23.0)\n",
            "Requirement already satisfied: certifi in /usr/local/lib/python3.6/dist-packages (from kaggle) (2020.4.5.1)\n",
            "Requirement already satisfied: urllib3<1.25,>=1.21.1 in /usr/local/lib/python3.6/dist-packages (from kaggle) (1.24.3)\n",
            "Requirement already satisfied: python-dateutil in /usr/local/lib/python3.6/dist-packages (from kaggle) (2.8.1)\n",
            "Requirement already satisfied: python-slugify in /usr/local/lib/python3.6/dist-packages (from kaggle) (4.0.0)\n",
            "Requirement already satisfied: tqdm in /usr/local/lib/python3.6/dist-packages (from kaggle) (4.38.0)\n",
            "Requirement already satisfied: six>=1.10 in /usr/local/lib/python3.6/dist-packages (from kaggle) (1.12.0)\n",
            "Requirement already satisfied: chardet<4,>=3.0.2 in /usr/local/lib/python3.6/dist-packages (from requests->kaggle) (3.0.4)\n",
            "Requirement already satisfied: idna<3,>=2.5 in /usr/local/lib/python3.6/dist-packages (from requests->kaggle) (2.9)\n",
            "Requirement already satisfied: text-unidecode>=1.3 in /usr/local/lib/python3.6/dist-packages (from python-slugify->kaggle) (1.3)\n"
          ],
          "name": "stdout"
        }
      ]
    },
    {
      "cell_type": "code",
      "metadata": {
        "id": "zcIUskUSJEgn",
        "colab_type": "code",
        "colab": {
          "base_uri": "https://localhost:8080/",
          "height": 122
        },
        "outputId": "86228382-05eb-4b94-816b-c8081fc8caa4"
      },
      "source": [
        "from google.colab import drive\n",
        "\n",
        "drive.mount(\"/content/gdrive\")"
      ],
      "execution_count": 4,
      "outputs": [
        {
          "output_type": "stream",
          "text": [
            "Go to this URL in a browser: https://accounts.google.com/o/oauth2/auth?client_id=947318989803-6bn6qk8qdgf4n4g3pfee6491hc0brc4i.apps.googleusercontent.com&redirect_uri=urn%3aietf%3awg%3aoauth%3a2.0%3aoob&response_type=code&scope=email%20https%3a%2f%2fwww.googleapis.com%2fauth%2fdocs.test%20https%3a%2f%2fwww.googleapis.com%2fauth%2fdrive%20https%3a%2f%2fwww.googleapis.com%2fauth%2fdrive.photos.readonly%20https%3a%2f%2fwww.googleapis.com%2fauth%2fpeopleapi.readonly\n",
            "\n",
            "Enter your authorization code:\n",
            "··········\n",
            "Mounted at /content/gdrive\n"
          ],
          "name": "stdout"
        }
      ]
    },
    {
      "cell_type": "code",
      "metadata": {
        "id": "oJme3hWoJJuT",
        "colab_type": "code",
        "colab": {
          "base_uri": "https://localhost:8080/",
          "height": 34
        },
        "outputId": "0707f806-33fb-4526-d63a-4c00cb813b01"
      },
      "source": [
        "cd gdrive/My\\ Drive/"
      ],
      "execution_count": 5,
      "outputs": [
        {
          "output_type": "stream",
          "text": [
            "/content/gdrive/My Drive\n"
          ],
          "name": "stdout"
        }
      ]
    },
    {
      "cell_type": "code",
      "metadata": {
        "id": "XG2msmUoJz8e",
        "colab_type": "code",
        "colab": {
          "base_uri": "https://localhost:8080/",
          "height": 34
        },
        "outputId": "4e652221-824e-405b-aba8-e84b1d4f738c"
      },
      "source": [
        "ls kaggle.json"
      ],
      "execution_count": 6,
      "outputs": [
        {
          "output_type": "stream",
          "text": [
            "kaggle.json\n"
          ],
          "name": "stdout"
        }
      ]
    },
    {
      "cell_type": "code",
      "metadata": {
        "id": "_rMEIGQoJ2a-",
        "colab_type": "code",
        "colab": {}
      },
      "source": [
        "!chmod 600 kaggle.json"
      ],
      "execution_count": 0,
      "outputs": []
    },
    {
      "cell_type": "code",
      "metadata": {
        "id": "Hc64WwAHJ5T0",
        "colab_type": "code",
        "colab": {}
      },
      "source": [
        "import json\n",
        "import os\n",
        "envs = json.load(open(\"kaggle.json\", \"r\"))\n",
        "os.environ[\"KAGGLE_USERNAME\"] = envs['username']\n",
        "os.environ[\"KAGGLE_KEY\"] = envs['key']"
      ],
      "execution_count": 0,
      "outputs": []
    },
    {
      "cell_type": "code",
      "metadata": {
        "id": "p924hUPgJ7su",
        "colab_type": "code",
        "colab": {
          "base_uri": "https://localhost:8080/",
          "height": 85
        },
        "outputId": "7f0bc6d2-b5b7-405b-dac8-7e0d8d881015"
      },
      "source": [
        "!kaggle competitions list -s PLAsTiCC"
      ],
      "execution_count": 9,
      "outputs": [
        {
          "output_type": "stream",
          "text": [
            "Warning: Looks like you're using an outdated API Version, please consider updating (server 1.5.6 / client 1.5.4)\n",
            "ref            deadline             category   reward  teamCount  userHasEntered  \n",
            "-------------  -------------------  --------  -------  ---------  --------------  \n",
            "PLAsTiCC-2018  2018-12-17 23:59:00  Featured  $25,000       1094            True  \n"
          ],
          "name": "stdout"
        }
      ]
    },
    {
      "cell_type": "code",
      "metadata": {
        "id": "I_Wp5cvbJ91G",
        "colab_type": "code",
        "colab": {
          "base_uri": "https://localhost:8080/",
          "height": 34
        },
        "outputId": "02b246fa-11ce-46ff-e018-c91e751fdc71"
      },
      "source": [
        "cd plasticc"
      ],
      "execution_count": 11,
      "outputs": [
        {
          "output_type": "stream",
          "text": [
            "/content/gdrive/My Drive/plasticc\n"
          ],
          "name": "stdout"
        }
      ]
    },
    {
      "cell_type": "code",
      "metadata": {
        "id": "Nm3VGgecKAX3",
        "colab_type": "code",
        "colab": {
          "base_uri": "https://localhost:8080/",
          "height": 34
        },
        "outputId": "f4ce6d0c-5415-46e9-aef3-e333c053ca9f"
      },
      "source": [
        "cd data"
      ],
      "execution_count": 12,
      "outputs": [
        {
          "output_type": "stream",
          "text": [
            "/content/gdrive/My Drive/plasticc/data\n"
          ],
          "name": "stdout"
        }
      ]
    },
    {
      "cell_type": "code",
      "metadata": {
        "id": "DmrpcPocKFgG",
        "colab_type": "code",
        "colab": {
          "base_uri": "https://localhost:8080/",
          "height": 340
        },
        "outputId": "e9f2087f-d45f-46f7-c32f-e2fd993893be"
      },
      "source": [
        "!kaggle competitions download PLAsTiCC-2018"
      ],
      "execution_count": 13,
      "outputs": [
        {
          "output_type": "stream",
          "text": [
            "Warning: Looks like you're using an outdated API Version, please consider updating (server 1.5.6 / client 1.5.4)\n",
            "test_set_batch11.csv.zip: Skipping, found more recently modified local copy (use --force to force download)\n",
            "test_set_batch5.csv.zip: Skipping, found more recently modified local copy (use --force to force download)\n",
            "test_set.csv.zip: Skipping, found more recently modified local copy (use --force to force download)\n",
            "test_set_batch7.csv.zip: Skipping, found more recently modified local copy (use --force to force download)\n",
            "test_set_batch9.csv.zip: Skipping, found more recently modified local copy (use --force to force download)\n",
            "test_set_batch2.csv.zip: Skipping, found more recently modified local copy (use --force to force download)\n",
            "test_set_batch1.csv.zip: Skipping, found more recently modified local copy (use --force to force download)\n",
            "test_set_metadata.csv.zip: Skipping, found more recently modified local copy (use --force to force download)\n",
            "training_set_metadata.csv: Skipping, found more recently modified local copy (use --force to force download)\n",
            "test_set_batch3.csv.zip: Skipping, found more recently modified local copy (use --force to force download)\n",
            "training_set.csv.zip: Skipping, found more recently modified local copy (use --force to force download)\n",
            "test_set_batch4.csv.zip: Skipping, found more recently modified local copy (use --force to force download)\n",
            "test_set_batch10.csv.zip: Skipping, found more recently modified local copy (use --force to force download)\n",
            "test_set_batch6.csv.zip: Skipping, found more recently modified local copy (use --force to force download)\n",
            "test_set_sample.csv.zip: Skipping, found more recently modified local copy (use --force to force download)\n",
            "sample_submission.csv.zip: Skipping, found more recently modified local copy (use --force to force download)\n",
            "test_set_batch8.csv.zip: Skipping, found more recently modified local copy (use --force to force download)\n",
            "data_note.pdf.zip: Skipping, found more recently modified local copy (use --force to force download)\n"
          ],
          "name": "stdout"
        }
      ]
    },
    {
      "cell_type": "code",
      "metadata": {
        "id": "ooVQ6JnIKH3H",
        "colab_type": "code",
        "colab": {
          "base_uri": "https://localhost:8080/",
          "height": 153
        },
        "outputId": "acf5e3fc-e7be-4e36-8c34-01b239e11ebf"
      },
      "source": [
        "ls"
      ],
      "execution_count": 14,
      "outputs": [
        {
          "output_type": "stream",
          "text": [
            "allfeatures                test_set_batch2.csv.zip  test_set.csv.zip\n",
            "allfeatures.npy            test_set_batch3.csv.zip  test_set_metadata.csv.zip\n",
            "data_note.pdf.zip          test_set_batch4.csv.zip  test_set_sample.csv.zip\n",
            "metadata                   test_set_batch5.csv.zip  training_set.csv\n",
            "sample_submission.csv.zip  test_set_batch6.csv.zip  training_set.csv.zip\n",
            "test_set_batch10.csv.zip   test_set_batch7.csv.zip  training_set_metadata.csv\n",
            "test_set_batch11.csv.zip   test_set_batch8.csv.zip\n",
            "test_set_batch1.csv.zip    test_set_batch9.csv.zip\n"
          ],
          "name": "stdout"
        }
      ]
    },
    {
      "cell_type": "code",
      "metadata": {
        "id": "kTLtUQr1KNfZ",
        "colab_type": "code",
        "colab": {
          "base_uri": "https://localhost:8080/",
          "height": 68
        },
        "outputId": "efd2d39b-c1f2-4249-9c12-7a5edf0e7945"
      },
      "source": [
        "!unzip training_set.csv.zip"
      ],
      "execution_count": 15,
      "outputs": [
        {
          "output_type": "stream",
          "text": [
            "Archive:  training_set.csv.zip\n",
            "replace training_set.csv? [y]es, [n]o, [A]ll, [N]one, [r]ename: A\n",
            "  inflating: training_set.csv        \n"
          ],
          "name": "stdout"
        }
      ]
    },
    {
      "cell_type": "code",
      "metadata": {
        "id": "fXSZaLGzKWd-",
        "colab_type": "code",
        "colab": {
          "base_uri": "https://localhost:8080/",
          "height": 204
        },
        "outputId": "ce69c68a-c543-4fe2-a38d-2fcad43bf79f"
      },
      "source": [
        "lcvs = pd.read_csv('training_set.csv')\n",
        "lcvs.head()"
      ],
      "execution_count": 16,
      "outputs": [
        {
          "output_type": "execute_result",
          "data": {
            "text/html": [
              "<div>\n",
              "<style scoped>\n",
              "    .dataframe tbody tr th:only-of-type {\n",
              "        vertical-align: middle;\n",
              "    }\n",
              "\n",
              "    .dataframe tbody tr th {\n",
              "        vertical-align: top;\n",
              "    }\n",
              "\n",
              "    .dataframe thead th {\n",
              "        text-align: right;\n",
              "    }\n",
              "</style>\n",
              "<table border=\"1\" class=\"dataframe\">\n",
              "  <thead>\n",
              "    <tr style=\"text-align: right;\">\n",
              "      <th></th>\n",
              "      <th>object_id</th>\n",
              "      <th>mjd</th>\n",
              "      <th>passband</th>\n",
              "      <th>flux</th>\n",
              "      <th>flux_err</th>\n",
              "      <th>detected</th>\n",
              "    </tr>\n",
              "  </thead>\n",
              "  <tbody>\n",
              "    <tr>\n",
              "      <th>0</th>\n",
              "      <td>615</td>\n",
              "      <td>59750.4229</td>\n",
              "      <td>2</td>\n",
              "      <td>-544.810303</td>\n",
              "      <td>3.622952</td>\n",
              "      <td>1</td>\n",
              "    </tr>\n",
              "    <tr>\n",
              "      <th>1</th>\n",
              "      <td>615</td>\n",
              "      <td>59750.4306</td>\n",
              "      <td>1</td>\n",
              "      <td>-816.434326</td>\n",
              "      <td>5.553370</td>\n",
              "      <td>1</td>\n",
              "    </tr>\n",
              "    <tr>\n",
              "      <th>2</th>\n",
              "      <td>615</td>\n",
              "      <td>59750.4383</td>\n",
              "      <td>3</td>\n",
              "      <td>-471.385529</td>\n",
              "      <td>3.801213</td>\n",
              "      <td>1</td>\n",
              "    </tr>\n",
              "    <tr>\n",
              "      <th>3</th>\n",
              "      <td>615</td>\n",
              "      <td>59750.4450</td>\n",
              "      <td>4</td>\n",
              "      <td>-388.984985</td>\n",
              "      <td>11.395031</td>\n",
              "      <td>1</td>\n",
              "    </tr>\n",
              "    <tr>\n",
              "      <th>4</th>\n",
              "      <td>615</td>\n",
              "      <td>59752.4070</td>\n",
              "      <td>2</td>\n",
              "      <td>-681.858887</td>\n",
              "      <td>4.041204</td>\n",
              "      <td>1</td>\n",
              "    </tr>\n",
              "  </tbody>\n",
              "</table>\n",
              "</div>"
            ],
            "text/plain": [
              "   object_id         mjd  passband        flux   flux_err  detected\n",
              "0        615  59750.4229         2 -544.810303   3.622952         1\n",
              "1        615  59750.4306         1 -816.434326   5.553370         1\n",
              "2        615  59750.4383         3 -471.385529   3.801213         1\n",
              "3        615  59750.4450         4 -388.984985  11.395031         1\n",
              "4        615  59752.4070         2 -681.858887   4.041204         1"
            ]
          },
          "metadata": {
            "tags": []
          },
          "execution_count": 16
        }
      ]
    },
    {
      "cell_type": "code",
      "metadata": {
        "id": "lk4iK0PeLNGp",
        "colab_type": "code",
        "colab": {}
      },
      "source": [
        ""
      ],
      "execution_count": 0,
      "outputs": []
    }
  ]
}