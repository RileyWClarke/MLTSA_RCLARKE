{
 "cells": [
  {
   "cell_type": "markdown",
   "metadata": {},
   "source": [
    "# HW1 Extra Credit - Exercises from Hogg et al 2010"
   ]
  },
  {
   "cell_type": "markdown",
   "metadata": {},
   "source": [
    "## Chapter 1"
   ]
  },
  {
   "cell_type": "markdown",
   "metadata": {},
   "source": [
    "### Problem 1\n"
   ]
  },
  {
   "cell_type": "markdown",
   "metadata": {},
   "source": [
    "Fitting a linear model to a dataset with uncertainties"
   ]
  },
  {
   "cell_type": "code",
   "execution_count": 1,
   "metadata": {
    "collapsed": true
   },
   "outputs": [],
   "source": [
    "%matplotlib inline\n",
    "import numpy as np\n",
    "from numpy import linalg as la\n",
    "from matplotlib import pyplot as plt\n",
    "import pandas as pd"
   ]
  },
  {
   "cell_type": "code",
   "execution_count": 2,
   "metadata": {
    "collapsed": true
   },
   "outputs": [],
   "source": [
    "# Copying Table 1 by hand b/c there isn't a machine-readable version :( \n",
    "\n",
    "df = pd.DataFrame(np.array([[201,592,61,9,-0.84],\n",
    "                            [244,401,25,4,0.31],\n",
    "                            [47,583,38,11,0.64],\n",
    "                            [287,402,15,7,-0.27],\n",
    "                            [203,495,21,5,-0.33],\n",
    "                            [58,173,15,9,0.67],\n",
    "                            [210,479,27,4,-0.02],\n",
    "                            [202,504,14,4,-0.05],\n",
    "                            [198,510,30,11,-0.84],\n",
    "                            [158,416,16,7,-0.69],\n",
    "                            [165,393,14,5,0.30],\n",
    "                            [201,442,25,5,-0.46],\n",
    "                            [157,317,52,5,-0.03],\n",
    "                            [131,311,16,6,0.50],\n",
    "                            [166,400,34,6,0.73],\n",
    "                            [160,337,31,5,-0.52],\n",
    "                            [186,423,42,9,0.90],\n",
    "                            [125,334,26,8,0.40],\n",
    "                            [218,533,16,6,-0.78],\n",
    "                            [146,344,22,5,-0.56]\n",
    "                            ]),index=np.arange(1,21),columns=('x','y','s_x','s_y','rho_xy'))"
   ]
  },
  {
   "cell_type": "code",
   "execution_count": 3,
   "metadata": {},
   "outputs": [
    {
     "data": {
      "text/html": [
       "<div>\n",
       "<style scoped>\n",
       "    .dataframe tbody tr th:only-of-type {\n",
       "        vertical-align: middle;\n",
       "    }\n",
       "\n",
       "    .dataframe tbody tr th {\n",
       "        vertical-align: top;\n",
       "    }\n",
       "\n",
       "    .dataframe thead th {\n",
       "        text-align: right;\n",
       "    }\n",
       "</style>\n",
       "<table border=\"1\" class=\"dataframe\">\n",
       "  <thead>\n",
       "    <tr style=\"text-align: right;\">\n",
       "      <th></th>\n",
       "      <th>x</th>\n",
       "      <th>y</th>\n",
       "      <th>s_x</th>\n",
       "      <th>s_y</th>\n",
       "      <th>rho_xy</th>\n",
       "    </tr>\n",
       "  </thead>\n",
       "  <tbody>\n",
       "    <tr>\n",
       "      <th>1</th>\n",
       "      <td>201.0</td>\n",
       "      <td>592.0</td>\n",
       "      <td>61.0</td>\n",
       "      <td>9.0</td>\n",
       "      <td>-0.84</td>\n",
       "    </tr>\n",
       "    <tr>\n",
       "      <th>2</th>\n",
       "      <td>244.0</td>\n",
       "      <td>401.0</td>\n",
       "      <td>25.0</td>\n",
       "      <td>4.0</td>\n",
       "      <td>0.31</td>\n",
       "    </tr>\n",
       "    <tr>\n",
       "      <th>3</th>\n",
       "      <td>47.0</td>\n",
       "      <td>583.0</td>\n",
       "      <td>38.0</td>\n",
       "      <td>11.0</td>\n",
       "      <td>0.64</td>\n",
       "    </tr>\n",
       "    <tr>\n",
       "      <th>4</th>\n",
       "      <td>287.0</td>\n",
       "      <td>402.0</td>\n",
       "      <td>15.0</td>\n",
       "      <td>7.0</td>\n",
       "      <td>-0.27</td>\n",
       "    </tr>\n",
       "    <tr>\n",
       "      <th>5</th>\n",
       "      <td>203.0</td>\n",
       "      <td>495.0</td>\n",
       "      <td>21.0</td>\n",
       "      <td>5.0</td>\n",
       "      <td>-0.33</td>\n",
       "    </tr>\n",
       "  </tbody>\n",
       "</table>\n",
       "</div>"
      ],
      "text/plain": [
       "       x      y   s_x   s_y  rho_xy\n",
       "1  201.0  592.0  61.0   9.0   -0.84\n",
       "2  244.0  401.0  25.0   4.0    0.31\n",
       "3   47.0  583.0  38.0  11.0    0.64\n",
       "4  287.0  402.0  15.0   7.0   -0.27\n",
       "5  203.0  495.0  21.0   5.0   -0.33"
      ]
     },
     "execution_count": 3,
     "metadata": {},
     "output_type": "execute_result"
    }
   ],
   "source": [
    "df.head()"
   ]
  },
  {
   "cell_type": "code",
   "execution_count": 5,
   "metadata": {},
   "outputs": [
    {
     "data": {
      "text/plain": [
       "<matplotlib.axes._subplots.AxesSubplot at 0x10e54cda0>"
      ]
     },
     "execution_count": 5,
     "metadata": {},
     "output_type": "execute_result"
    },
    {
     "data": {
      "image/png": "[encoded data removed]",
      "text/plain": [
       "<matplotlib.figure.Figure at 0x10e54c4e0>"
      ]
     },
     "metadata": {},
     "output_type": "display_data"
    }
   ],
   "source": [
    "df.plot.scatter(x='x', y='y', c='k')"
   ]
  },
  {
   "cell_type": "code",
   "execution_count": 5,
   "metadata": {
    "collapsed": true
   },
   "outputs": [],
   "source": [
    "# Create separate arrays with outliers removed\n",
    "x1 = df['x'][4::]\n",
    "y1 = df['y'][4::]"
   ]
  },
  {
   "cell_type": "code",
   "execution_count": 6,
   "metadata": {},
   "outputs": [
    {
     "data": {
      "text/plain": [
       "<matplotlib.text.Text at 0x10aeaef98>"
      ]
     },
     "execution_count": 6,
     "metadata": {},
     "output_type": "execute_result"
    },
    {
     "data": {
      "image/png": "[encoded data removed]",
      "text/plain": [
       "<matplotlib.figure.Figure at 0x10ae7fda0>"
      ]
     },
     "metadata": {},
     "output_type": "display_data"
    }
   ],
   "source": [
    "plt.scatter(x1, y1, c='k', marker='.')\n",
    "plt.xlabel('x')\n",
    "plt.ylabel('y')"
   ]
  },
  {
   "cell_type": "code",
   "execution_count": 7,
   "metadata": {
    "collapsed": true
   },
   "outputs": [],
   "source": [
    "Y = np.array(y1)\n",
    "A = np.zeros((len(x1),2))\n",
    "for i in range(len(x1)):\n",
    "    A[i][0] = 1\n",
    "    A[i][1] = x1[i+5]\n",
    "\n",
    "C = np.diag(df['s_y'][4::] ** 2)"
   ]
  },
  {
   "cell_type": "code",
   "execution_count": 8,
   "metadata": {},
   "outputs": [
    {
     "name": "stdout",
     "output_type": "stream",
     "text": [
      "[3.81861706 2.33013017]\n"
     ]
    }
   ],
   "source": [
    "X1 = la.inv(np.matmul(np.matmul(A.transpose(),la.inv(C)), A))\n",
    "X2 = np.matmul(np.matmul(A.transpose(),la.inv(C)), Y)\n",
    "X = np.matmul(X1,X2)\n",
    "print(X)"
   ]
  },
  {
   "cell_type": "code",
   "execution_count": 13,
   "metadata": {},
   "outputs": [
    {
     "data": {
      "text/plain": [
       "<matplotlib.text.Text at 0x11143f198>"
      ]
     },
     "execution_count": 13,
     "metadata": {},
     "output_type": "execute_result"
    },
    {
     "data": {
      "image/png": "[encoded data removed]",
      "text/plain": [
       "<matplotlib.figure.Figure at 0x10d655e48>"
      ]
     },
     "metadata": {},
     "output_type": "display_data"
    }
   ],
   "source": [
    "plt.figure(figsize=(5,5))\n",
    "plt.scatter(x1, y1, c='k', marker='.')\n",
    "dom = np.linspace(0,300)\n",
    "plt.plot(dom,X[1]*dom + X[0], c='k', ls='--')\n",
    "plt.xlim(0,300)\n",
    "plt.ylim(0,700)\n",
    "plt.xlabel('x')\n",
    "plt.ylabel('y')"
   ]
  },
  {
   "cell_type": "markdown",
   "metadata": {},
   "source": [
    "### Problem 2"
   ]
  },
  {
   "cell_type": "markdown",
   "metadata": {},
   "source": [
    "Basically a repeat of problem 1 but with the outliers added back in"
   ]
  },
  {
   "cell_type": "code",
   "execution_count": 11,
   "metadata": {
    "collapsed": true
   },
   "outputs": [],
   "source": [
    "x = df['x']\n",
    "y = df['y']"
   ]
  },
  {
   "cell_type": "code",
   "execution_count": 12,
   "metadata": {
    "collapsed": true
   },
   "outputs": [],
   "source": [
    "Y = np.array(y)\n",
    "A = np.zeros((len(x),2))\n",
    "for i in range(len(x)):\n",
    "    A[i][0] = 1\n",
    "    A[i][1] = x[i+1]\n",
    "C = np.diag(df['s_y'] ** 2)"
   ]
  },
  {
   "cell_type": "code",
   "execution_count": 13,
   "metadata": {},
   "outputs": [
    {
     "name": "stdout",
     "output_type": "stream",
     "text": [
      "[250.08215515   0.90783146]\n"
     ]
    }
   ],
   "source": [
    "X1 = la.inv(np.matmul(np.matmul(A.transpose(),la.inv(C)), A))\n",
    "X2 = np.matmul(np.matmul(A.transpose(),la.inv(C)), Y)\n",
    "X = np.matmul(X1,X2)\n",
    "print(X)"
   ]
  },
  {
   "cell_type": "code",
   "execution_count": 14,
   "metadata": {},
   "outputs": [
    {
     "data": {
      "text/plain": [
       "<matplotlib.text.Text at 0x1143995c0>"
      ]
     },
     "execution_count": 14,
     "metadata": {},
     "output_type": "execute_result"
    },
    {
     "data": {
      "image/png": "[encoded data removed]",
      "text/plain": [
       "<matplotlib.figure.Figure at 0x10eb82a90>"
      ]
     },
     "metadata": {},
     "output_type": "display_data"
    }
   ],
   "source": [
    "plt.figure(figsize=(5,5))\n",
    "plt.scatter(x, y, c='k', marker='.')\n",
    "dom = np.linspace(0,300)\n",
    "plt.plot(dom,X[1]*dom + X[0], c='k', ls='--')\n",
    "plt.xlim(0,300)\n",
    "plt.ylim(0,700)\n",
    "plt.xlabel('x')\n",
    "plt.ylabel('y')"
   ]
  },
  {
   "cell_type": "markdown",
   "metadata": {},
   "source": [
    "### Problem 3"
   ]
  },
  {
   "cell_type": "markdown",
   "metadata": {},
   "source": [
    "Fitting a nonlinear model to the dataset w/ outliers"
   ]
  },
  {
   "cell_type": "code",
   "execution_count": 15,
   "metadata": {
    "collapsed": true
   },
   "outputs": [],
   "source": [
    "Y = np.array(y1)\n",
    "A = np.zeros((len(x1),3))\n",
    "for i in range(len(x1)):\n",
    "    A[i][0] = 1\n",
    "    A[i][1] = x[i+5]\n",
    "    A[i][2] = x[i+5] ** 2\n",
    "C = np.diag(df['s_y'][4::] ** 2)"
   ]
  },
  {
   "cell_type": "code",
   "execution_count": 16,
   "metadata": {},
   "outputs": [
    {
     "name": "stdout",
     "output_type": "stream",
     "text": [
      "[1.21837764e+02 7.55108148e-01 4.96230052e-03]\n"
     ]
    }
   ],
   "source": [
    "X1 = la.inv(np.matmul(np.matmul(A.transpose(),la.inv(C)), A))\n",
    "X2 = np.matmul(np.matmul(A.transpose(),la.inv(C)), Y)\n",
    "X = np.matmul(X1,X2)\n",
    "print(X)"
   ]
  },
  {
   "cell_type": "code",
   "execution_count": 17,
   "metadata": {},
   "outputs": [
    {
     "data": {
      "text/plain": [
       "<matplotlib.text.Text at 0x1144ac240>"
      ]
     },
     "execution_count": 17,
     "metadata": {},
     "output_type": "execute_result"
    },
    {
     "data": {
      "image/png": "[encoded data removed]",
      "text/plain": [
       "<matplotlib.figure.Figure at 0x114391f98>"
      ]
     },
     "metadata": {},
     "output_type": "display_data"
    }
   ],
   "source": [
    "plt.figure(figsize=(5,5))\n",
    "plt.scatter(x, y, c='k', marker='.')\n",
    "dom = np.linspace(0,300)\n",
    "plt.plot(dom,X[2]*dom**2 + X[1]*dom + X[0], c='k', ls='--')\n",
    "plt.xlim(0,300)\n",
    "plt.ylim(0,700)\n",
    "plt.xlabel('x')\n",
    "plt.ylabel('y')"
   ]
  }
 ],
 "metadata": {
  "kernelspec": {
   "display_name": "Python 3",
   "language": "python",
   "name": "python3"
  },
  "language_info": {
   "codemirror_mode": {
    "name": "ipython",
    "version": 3
   },
   "file_extension": ".py",
   "mimetype": "text/x-python",
   "name": "python",
   "nbconvert_exporter": "python",
   "pygments_lexer": "ipython3",
   "version": "3.6.1"
  }
 },
 "nbformat": 4,
 "nbformat_minor": 2
}
