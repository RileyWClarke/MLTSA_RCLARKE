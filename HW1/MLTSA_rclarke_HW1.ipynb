{
 "cells": [
  {
   "cell_type": "markdown",
   "metadata": {},
   "source": [
    "# MLTSA - Homework #1"
   ]
  },
  {
   "cell_type": "code",
   "execution_count": 2,
   "metadata": {
    "collapsed": true
   },
   "outputs": [],
   "source": [
    "%matplotlib inline\n",
    "import numpy as np\n",
    "from numpy import linalg as la\n",
    "from matplotlib import pyplot as plt\n",
    "import pandas as pd\n",
    "from sklearn.linear_model import LinearRegression \n",
    "from scipy.optimize import minimize"
   ]
  },
  {
   "cell_type": "code",
   "execution_count": 3,
   "metadata": {
    "collapsed": true
   },
   "outputs": [],
   "source": [
    "# Reading in data:\n",
    "grbAG = pd.read_csv('https://raw.githubusercontent.com/fedhere/MLTSA_FBianco/master/HW1/grb050525A.csv', sep=',')"
   ]
  },
  {
   "cell_type": "code",
   "execution_count": 4,
   "metadata": {},
   "outputs": [
    {
     "data": {
      "text/html": [
       "<div>\n",
       "<style scoped>\n",
       "    .dataframe tbody tr th:only-of-type {\n",
       "        vertical-align: middle;\n",
       "    }\n",
       "\n",
       "    .dataframe tbody tr th {\n",
       "        vertical-align: top;\n",
       "    }\n",
       "\n",
       "    .dataframe thead th {\n",
       "        text-align: right;\n",
       "    }\n",
       "</style>\n",
       "<table border=\"1\" class=\"dataframe\">\n",
       "  <thead>\n",
       "    <tr style=\"text-align: right;\">\n",
       "      <th></th>\n",
       "      <th>filter</th>\n",
       "      <th>time</th>\n",
       "      <th>mag</th>\n",
       "      <th>magerr</th>\n",
       "      <th>upperlimit</th>\n",
       "      <th>logtime</th>\n",
       "    </tr>\n",
       "  </thead>\n",
       "  <tbody>\n",
       "    <tr>\n",
       "      <th>0</th>\n",
       "      <td>V</td>\n",
       "      <td>66</td>\n",
       "      <td>13.21</td>\n",
       "      <td>0.24</td>\n",
       "      <td>0</td>\n",
       "      <td>1.819544</td>\n",
       "    </tr>\n",
       "    <tr>\n",
       "      <th>1</th>\n",
       "      <td>V</td>\n",
       "      <td>67</td>\n",
       "      <td>12.90</td>\n",
       "      <td>0.23</td>\n",
       "      <td>0</td>\n",
       "      <td>1.826075</td>\n",
       "    </tr>\n",
       "    <tr>\n",
       "      <th>2</th>\n",
       "      <td>V</td>\n",
       "      <td>68</td>\n",
       "      <td>12.86</td>\n",
       "      <td>0.23</td>\n",
       "      <td>0</td>\n",
       "      <td>1.832509</td>\n",
       "    </tr>\n",
       "    <tr>\n",
       "      <th>3</th>\n",
       "      <td>V</td>\n",
       "      <td>69</td>\n",
       "      <td>13.01</td>\n",
       "      <td>0.23</td>\n",
       "      <td>0</td>\n",
       "      <td>1.838849</td>\n",
       "    </tr>\n",
       "    <tr>\n",
       "      <th>4</th>\n",
       "      <td>V</td>\n",
       "      <td>70</td>\n",
       "      <td>12.97</td>\n",
       "      <td>0.23</td>\n",
       "      <td>0</td>\n",
       "      <td>1.845098</td>\n",
       "    </tr>\n",
       "  </tbody>\n",
       "</table>\n",
       "</div>"
      ],
      "text/plain": [
       "  filter  time    mag  magerr  upperlimit   logtime\n",
       "0      V    66  13.21    0.24           0  1.819544\n",
       "1      V    67  12.90    0.23           0  1.826075\n",
       "2      V    68  12.86    0.23           0  1.832509\n",
       "3      V    69  13.01    0.23           0  1.838849\n",
       "4      V    70  12.97    0.23           0  1.845098"
      ]
     },
     "execution_count": 4,
     "metadata": {},
     "output_type": "execute_result"
    }
   ],
   "source": [
    "# Checking dataframe + adding logtime col\n",
    "grbAG['logtime'] = np.log10(grbAG['time'])\n",
    "grbAG.head()"
   ]
  },
  {
   "cell_type": "code",
   "execution_count": 5,
   "metadata": {},
   "outputs": [
    {
     "data": {
      "text/plain": [
       "<matplotlib.text.Text at 0x10f55f9e8>"
      ]
     },
     "execution_count": 5,
     "metadata": {},
     "output_type": "execute_result"
    },
    {
     "data": {
      "image/png": "[encoded data removed]",
      "text/plain": [
       "<matplotlib.figure.Figure at 0x10e1328d0>"
      ]
     },
     "metadata": {},
     "output_type": "display_data"
    }
   ],
   "source": [
    "# Magnitude vs logtime scatter plot:\n",
    "\n",
    "fig = plt.figure(figsize=(10,10))\n",
    "\n",
    "#Plot points in each filter separately:\n",
    "for f in grbAG['filter'].unique():\n",
    "    plt.errorbar(grbAG['logtime'].where(grbAG['filter'] == f), \n",
    "                 grbAG['mag'].where(grbAG['filter'] == f), \n",
    "                 yerr = grbAG['magerr'], fmt = 'o', label=str(f))\n",
    "\n",
    "#Plot arrows for upperlimit points:\n",
    "nuplim = grbAG.mag.isna().sum()\n",
    "for i in grbAG[grbAG.upperlimit == 1].index:\n",
    "    plt.arrow(grbAG.loc[i].logtime, \n",
    "            grbAG.loc[i].magerr, 0, 2, \n",
    "            head_width=0.05, head_length=0.1, ec='k')\n",
    "    \n",
    "plt.ylim(26,12)\n",
    "plt.xlim(1,7)\n",
    "plt.legend(fontsize=18, title='Filter')\n",
    "\n",
    "plt.xlabel('log time (seconds)', fontsize=16)\n",
    "plt.ylabel('magnitude', fontsize=16)\n",
    "plt.title('GRB Afterglow Magnitude')"
   ]
  },
  {
   "cell_type": "markdown",
   "metadata": {},
   "source": [
    "Figure 1: Scatter plot of GRB afterglow magnitude vs. log time (in seconds) in six different filters with uncertainties. Observations beyond the upper limit of their respective filter are marked with an arrow. It's good practice to visualize the dataset you're trying to fit before blindly plugging the data into a fitting algorithm.  "
   ]
  },
  {
   "cell_type": "markdown",
   "metadata": {},
   "source": [
    "## Fitting a line via the normal equation:"
   ]
  },
  {
   "cell_type": "markdown",
   "metadata": {},
   "source": [
    "$$(a \\:\\: b)^T = (X^T \\cdot X)^{-1} \\cdot X^T \\cdot \\vec{y}$$ \n",
    "\n",
    "In the above equation, X is an Nx2 matrix (N being the length of the dataset) where the first column is all ones and the second column is the values of the independent variable, y is the dataset of the dependent observations, and a & b are the intercept and slope, respectively, of the line that best fits the points."
   ]
  },
  {
   "cell_type": "code",
   "execution_count": 6,
   "metadata": {},
   "outputs": [
    {
     "name": "stdout",
     "output_type": "stream",
     "text": [
      "shape of the input array X (108, 2)\n",
      "shape of the input array y (108,)\n"
     ]
    }
   ],
   "source": [
    "# Create an Nx2 matrix X, where the first column is all ones and the second column is the values of the independent\n",
    "# variable, in this case, (log)time:\n",
    "X = np.c_[np.ones((len(grbAG) - grbAG.upperlimit.sum(), 1)), grbAG['logtime'][np.where(grbAG.upperlimit == 0)[0]]]\n",
    "\n",
    "y = grbAG['mag'][np.where(grbAG.upperlimit == 0)[0]] #Only want x & y values below upperlimit\n",
    "\n",
    "print(\"shape of the input array X\", X.shape)\n",
    "print(\"shape of the input array y\", y.shape)"
   ]
  },
  {
   "cell_type": "code",
   "execution_count": 7,
   "metadata": {},
   "outputs": [
    {
     "name": "stdout",
     "output_type": "stream",
     "text": [
      "best fit parameters from the Normal Equation: intercept 8.58, slope 2.51\n"
     ]
    }
   ],
   "source": [
    "theta_best = np.linalg.inv(X.T.dot(X)).dot(X.T).dot(y) #numpy can be used to do the linear alg operations\n",
    "                                           \n",
    "print (\"best fit parameters from the Normal Equation: \" + \n",
    "       \"intercept {:.2f}, slope {:.2f}\".format(*theta_best))"
   ]
  },
  {
   "cell_type": "markdown",
   "metadata": {},
   "source": [
    "## Fitting a line via sklearn linear regression:"
   ]
  },
  {
   "cell_type": "code",
   "execution_count": 8,
   "metadata": {},
   "outputs": [
    {
     "name": "stdout",
     "output_type": "stream",
     "text": [
      "best fit parameters from the sklearn LinearRegression(): intercept 8.58, slope 2.51\n"
     ]
    }
   ],
   "source": [
    "lr = LinearRegression().fit(X,y)\n",
    "\n",
    "print (\"best fit parameters from the sklearn LinearRegression(): \" + \n",
    "       \"intercept {:.2f}, slope {:.2f}\".format(lr.intercept_, lr.coef_[1]))"
   ]
  },
  {
   "cell_type": "markdown",
   "metadata": {},
   "source": [
    "sklearn.LinearRegression returns the same parameters as the ones obtained from the Normal Equation. \n",
    "\n",
    "According to the sklearn documentation:\n",
    "\n",
    ">LinearRegression fits a linear model with coefficients w = (w1, …, wp) to minimize the residual sum of squares between the observed targets in the dataset, and the targets predicted by the linear approximation.\n",
    "\n",
    "Since the normal equation has an analytical solution, the sklearn algorithm is able to invert the matrices given to it so it is unsuprising that the result is the same as the analytical solution."
   ]
  },
  {
   "cell_type": "markdown",
   "metadata": {},
   "source": [
    "## Minimizing the L1 objective function:"
   ]
  },
  {
   "cell_type": "code",
   "execution_count": 11,
   "metadata": {},
   "outputs": [
    {
     "name": "stdout",
     "output_type": "stream",
     "text": [
      "      fun: 26.304339341180192\n",
      " hess_inv: array([[ 0.0075934 , -0.01591229],\n",
      "       [-0.01591229,  0.0341321 ]])\n",
      "      jac: array([-1.95810747,  0.        ])\n",
      "  message: 'Desired error not necessarily achieved due to precision loss.'\n",
      "     nfev: 228\n",
      "      nit: 11\n",
      "     njev: 55\n",
      "   status: 2\n",
      "  success: False\n",
      "        x: array([2.64023378, 8.22681524])\n",
      "\n",
      "best fit parameters from the minimization of L1: slope 2.64, intercept 8.23\n"
     ]
    }
   ],
   "source": [
    "def line(x, slope, intercept):\n",
    "    '''\n",
    "    Returns function of a straight line\n",
    "    \n",
    "    Inputs\n",
    "    ======\n",
    "    x: 1-D array of domain values\n",
    "    intercept: value of y-intercept \n",
    "    slope: slope of the line \n",
    "    '''\n",
    "    return (x*slope) + intercept\n",
    "\n",
    "def l1(args, x, y):\n",
    "    '''\n",
    "    L1 objective function\n",
    "    \n",
    "    Inputs\n",
    "    ======\n",
    "    args: parameters of model\n",
    "    x: 1-D array of the independent variable\n",
    "    y: 1-D array of the dependent variable\n",
    "    '''\n",
    "    a, b = args\n",
    "    \n",
    "    return np.sum(np.abs(line(x, a, b) - y))\n",
    "\n",
    "initialGuess = (10, 1) #Doesn't have to be a close guess for a simple model\n",
    "\n",
    "x = grbAG['logtime'][np.where(grbAG.upperlimit == 0)[0]]\n",
    "\n",
    "l1Solution = minimize(l1, initialGuess, args=(x, y))\n",
    "\n",
    "print(l1Solution)\n",
    "print(\"\")\n",
    "print(\"best fit parameters from the minimization of L1: \" + \n",
    "       \"slope {:.2f}, intercept {:.2f}\".format(*l1Solution.x))"
   ]
  },
  {
   "cell_type": "markdown",
   "metadata": {},
   "source": [
    "Hmm so the minimization of L1 returns somewhat different parameter values than the previous methods. "
   ]
  },
  {
   "cell_type": "code",
   "execution_count": 12,
   "metadata": {},
   "outputs": [
    {
     "name": "stdout",
     "output_type": "stream",
     "text": [
      "normal: slope = 2.51, intercept = 8.58\n",
      "sklearn: slope = 2.51, intercept = 8.58\n",
      "L1: slope = 2.64, intercept = 8.23\n",
      "chi2: slope = 2.51, intercept = 8.58\n"
     ]
    },
    {
     "data": {
      "text/plain": [
       "<matplotlib.legend.Legend at 0x1134c26d8>"
      ]
     },
     "execution_count": 12,
     "metadata": {},
     "output_type": "execute_result"
    },
    {
     "data": {
      "image/png": "[encoded data removed]",
      "text/plain": [
       "<matplotlib.figure.Figure at 0x113258c50>"
      ]
     },
     "metadata": {},
     "output_type": "display_data"
    }
   ],
   "source": [
    "### Define line-plotting function:\n",
    "\n",
    "def plotline(x, y, method, clr='k', linestyle='-', Label=None):\n",
    "    \n",
    "    '''\n",
    "    This function plots a line using the parameters (slope & intercept)\n",
    "    generated by a specified method.\n",
    "    \n",
    "    Inputs\n",
    "    ======\n",
    "    \n",
    "    x: 1-D numpy array or pandas series of floats representing the independent variable\n",
    "    y: 1-D numpy array or pandas series of floats representing the dependent variable\n",
    "    method: technique used to specify line parameters.\n",
    "        -normal: fits parameters 'manually' using the Normal Equation\n",
    "        -sklearn: fits parameters using sklearn.linear_model.LinearRegression.fit()\n",
    "        -L1: fits parameters by minimizing the L1 objective function\n",
    "        -chi2: fits parameters by minimizing the chi-squared objective function\n",
    "    clr, linestyle, Label: passed to style kwargs in matplotlib.pyplot.plot()\n",
    "    '''\n",
    "    \n",
    "    if method == 'normal':\n",
    "        \n",
    "        X = np.c_[np.ones((len(x),1)), np.array(x)]\n",
    "        \n",
    "        b, a = np.linalg.inv(X.T.dot(X)).dot(X.T).dot(y)\n",
    "    \n",
    "    if method == 'sklearn':\n",
    "        \n",
    "        X = np.c_[np.ones((len(x),1)), x]\n",
    "        \n",
    "        lr = LinearRegression().fit(X,y)\n",
    "        \n",
    "        b, a = lr.intercept_, lr.coef_[1]\n",
    "    \n",
    "    if method == 'L1':\n",
    "        \n",
    "        def line(x, slope, intercept):\n",
    "            return (x*slope) + intercept\n",
    "\n",
    "        def l1(args, x, y):\n",
    "            a, b = args\n",
    "            return np.sum(np.abs(line(x, a, b) - y))\n",
    "\n",
    "        initialGuess = (10, 1) \n",
    "\n",
    "        l1Solution = minimize(l1, initialGuess, args=(x, y))\n",
    "      \n",
    "        a, b = l1Solution.x\n",
    "        \n",
    "    if method == 'chi2':\n",
    "        \n",
    "        def line(x, slope, intercept):\n",
    "            return (x*slope) + intercept\n",
    "        \n",
    "        def chi2(args, x, y):\n",
    "            m, b = args\n",
    "            return np.sum(((line(x, m, b) - y)**2) / np.var(y))\n",
    "        \n",
    "        initialGuess = (10, 1) \n",
    "\n",
    "        chi2Solution = minimize(chi2, initialGuess, args=(x, y))\n",
    "\n",
    "        a, b = chi2Solution.x\n",
    "        \n",
    "    print(\"{}: slope = {:.2f}, intercept = {:.2f}\".format(method, a, b))\n",
    "    \n",
    "    x_ = np.arange(2,7) #set separate domain for lines so we can see them in the upperlimit regime\n",
    "    \n",
    "    plt.plot(x_, a * x_ + b, c = clr, ls=linestyle, label = Label, alpha=0.75)\n",
    "    \n",
    "###\n",
    "\n",
    "# Scatter plot from earlier, then add fits:\n",
    "\n",
    "ax = plt.figure(figsize=(10,10)).add_subplot(111)\n",
    "\n",
    "for f in grbAG['filter'].unique():\n",
    "    plt.errorbar(grbAG['logtime'].where(grbAG['filter'] == f), \n",
    "                 grbAG['mag'].where(grbAG['filter'] == f), \n",
    "                 yerr = grbAG['magerr'], fmt = 'o', label=None)\n",
    "    \n",
    "nuplim = grbAG.mag.isna().sum()\n",
    "for i in grbAG[grbAG.upperlimit == 1].index:\n",
    "    plt.arrow(grbAG.loc[i].logtime, \n",
    "                grbAG.loc[i].magerr, 0, 2, \n",
    "                head_width=0.05, head_length=0.1, ec='k')\n",
    "    \n",
    "x = grbAG['logtime'][np.where(grbAG.upperlimit == 0)[0]]    \n",
    "y = grbAG['mag'][np.where(grbAG.upperlimit == 0)[0]]    \n",
    "\n",
    "#normal equation\n",
    "plotline(x, y,'normal', 'goldenrod', '-', 'normal')\n",
    "         \n",
    "#sklearn\n",
    "plotline(x, y,'sklearn', 'chartreuse', '--', 'sklearn')\n",
    "         \n",
    "#minimize L1\n",
    "plotline(x, y, 'L1', 'magenta', '-.', 'L1')\n",
    "         \n",
    "#minimize chi2\n",
    "plotline(x, y, 'chi2', 'hotpink', ':', 'chi2')\n",
    "\n",
    "plt.ylim(26,12)\n",
    "plt.xlim(1,7)\n",
    "plt.legend(fontsize=18)\n",
    "\n",
    "plt.xlabel('log time (s)', fontsize=16)\n",
    "plt.ylabel('magnitude', fontsize=16)\n",
    "plt.title('GRB Afterglow Magnitude')\n",
    "plt.legend(fontsize=18)"
   ]
  },
  {
   "cell_type": "markdown",
   "metadata": {},
   "source": [
    "Figure 2: Same as Figure 1 with best-fit lines from four different fitting methods added.\n",
    "\n",
    "    -normal: fits parameters 'manually' using the Normal Equation\n",
    "    -sklearn: fits parameters using sklearn.linear_model.LinearRegression.fit()\n",
    "    -L1: fits parameters by minimizing the L1 objective function\n",
    "    -chi2: fits parameters by minimizing the chi-squared objective function\n",
    "    \n",
    "The lines returned by the normal equation, sklearn.LinearRegression, and chi squared all have nearly identical parameters, whereas the line returned by the minimization of L1 has a slightly increased slope and a slightly decreased intercept.  "
   ]
  },
  {
   "cell_type": "markdown",
   "metadata": {},
   "source": [
    "## Parameter results of each method:"
   ]
  },
  {
   "cell_type": "markdown",
   "metadata": {},
   "source": [
    "| method | slope | intercept | \n",
    "|--------|-------|-----------|\n",
    "|Normal  |8.58   |2.51       |\n",
    "|sklearn |8.58   |2.51       |\n",
    "|L1      |8.23   |2.64       |\n",
    "|$\\chi^2$|8.58   |2.51       |"
   ]
  }
 ],
 "metadata": {
  "kernelspec": {
   "display_name": "Python 3",
   "language": "python",
   "name": "python3"
  },
  "language_info": {
   "codemirror_mode": {
    "name": "ipython",
    "version": 3
   },
   "file_extension": ".py",
   "mimetype": "text/x-python",
   "name": "python",
   "nbconvert_exporter": "python",
   "pygments_lexer": "ipython3",
   "version": "3.6.1"
  }
 },
 "nbformat": 4,
 "nbformat_minor": 2
}
