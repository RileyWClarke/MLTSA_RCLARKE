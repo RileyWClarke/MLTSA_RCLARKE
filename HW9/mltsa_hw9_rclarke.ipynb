{
  "nbformat": 4,
  "nbformat_minor": 0,
  "metadata": {
    "colab": {
      "name": "mltsa_hw9_rclarke.ipynb",
      "provenance": [],
      "authorship_tag": "ABX9TyM6QWzb4GB3DZhHy0f4/pfx",
      "include_colab_link": true
    },
    "kernelspec": {
      "name": "python3",
      "display_name": "Python 3"
    }
  },
  "cells": [
    {
      "cell_type": "markdown",
      "metadata": {
        "id": "view-in-github",
        "colab_type": "text"
      },
      "source": [
        "<a href=\"https://colab.research.google.com/github/RileyWClarke/MLTSA_RClarke/blob/master/HW9/mltsa_hw9_rclarke.ipynb\" target=\"_parent\"><img src=\"https://colab.research.google.com/assets/colab-badge.svg\" alt=\"Open In Colab\"/></a>"
      ]
    },
    {
      "cell_type": "code",
      "metadata": {
        "id": "oAxAC0I5IcqF",
        "colab_type": "code",
        "colab": {}
      },
      "source": [
        "from matplotlib import pyplot as plt\n",
        "from matplotlib.colors import Normalize\n",
        "import numpy as np\n",
        "import pandas as pd\n",
        "% matplotlib inline"
      ],
      "execution_count": 0,
      "outputs": []
    },
    {
      "cell_type": "code",
      "metadata": {
        "id": "uvSw6MpDI_6J",
        "colab_type": "code",
        "colab": {}
      },
      "source": [
        "plt.style.use(\"https://raw.githubusercontent.com/fedhere/MLTSA_FBianco/master/fbb.mplstyle\")"
      ],
      "execution_count": 0,
      "outputs": []
    },
    {
      "cell_type": "code",
      "metadata": {
        "id": "7DSB4TkDJCPN",
        "colab_type": "code",
        "outputId": "22ca5f32-71a2-4578-f8be-81789401e8d0",
        "colab": {
          "base_uri": "https://localhost:8080/",
          "height": 204
        }
      },
      "source": [
        "!pip install kaggle"
      ],
      "execution_count": 4,
      "outputs": [
        {
          "output_type": "stream",
          "text": [
            "Requirement already satisfied: kaggle in /usr/local/lib/python3.6/dist-packages (1.5.6)\n",
            "Requirement already satisfied: python-slugify in /usr/local/lib/python3.6/dist-packages (from kaggle) (4.0.0)\n",
            "Requirement already satisfied: six>=1.10 in /usr/local/lib/python3.6/dist-packages (from kaggle) (1.12.0)\n",
            "Requirement already satisfied: certifi in /usr/local/lib/python3.6/dist-packages (from kaggle) (2020.4.5.1)\n",
            "Requirement already satisfied: tqdm in /usr/local/lib/python3.6/dist-packages (from kaggle) (4.38.0)\n",
            "Requirement already satisfied: python-dateutil in /usr/local/lib/python3.6/dist-packages (from kaggle) (2.8.1)\n",
            "Requirement already satisfied: requests in /usr/local/lib/python3.6/dist-packages (from kaggle) (2.23.0)\n",
            "Requirement already satisfied: urllib3<1.25,>=1.21.1 in /usr/local/lib/python3.6/dist-packages (from kaggle) (1.24.3)\n",
            "Requirement already satisfied: text-unidecode>=1.3 in /usr/local/lib/python3.6/dist-packages (from python-slugify->kaggle) (1.3)\n",
            "Requirement already satisfied: idna<3,>=2.5 in /usr/local/lib/python3.6/dist-packages (from requests->kaggle) (2.9)\n",
            "Requirement already satisfied: chardet<4,>=3.0.2 in /usr/local/lib/python3.6/dist-packages (from requests->kaggle) (3.0.4)\n"
          ],
          "name": "stdout"
        }
      ]
    },
    {
      "cell_type": "code",
      "metadata": {
        "id": "zcIUskUSJEgn",
        "colab_type": "code",
        "outputId": "9db66f9d-30eb-40d6-9fbd-cca70c8c854a",
        "colab": {
          "base_uri": "https://localhost:8080/",
          "height": 122
        }
      },
      "source": [
        "from google.colab import drive\n",
        "\n",
        "drive.mount(\"/content/gdrive\")"
      ],
      "execution_count": 6,
      "outputs": [
        {
          "output_type": "stream",
          "text": [
            "Go to this URL in a browser: https://accounts.google.com/o/oauth2/auth?client_id=947318989803-6bn6qk8qdgf4n4g3pfee6491hc0brc4i.apps.googleusercontent.com&redirect_uri=urn%3aietf%3awg%3aoauth%3a2.0%3aoob&response_type=code&scope=email%20https%3a%2f%2fwww.googleapis.com%2fauth%2fdocs.test%20https%3a%2f%2fwww.googleapis.com%2fauth%2fdrive%20https%3a%2f%2fwww.googleapis.com%2fauth%2fdrive.photos.readonly%20https%3a%2f%2fwww.googleapis.com%2fauth%2fpeopleapi.readonly\n",
            "\n",
            "Enter your authorization code:\n",
            "··········\n",
            "Mounted at /content/gdrive\n"
          ],
          "name": "stdout"
        }
      ]
    },
    {
      "cell_type": "code",
      "metadata": {
        "id": "oJme3hWoJJuT",
        "colab_type": "code",
        "outputId": "c48eb36f-fe9b-4ecd-e32d-eaa71234e044",
        "colab": {
          "base_uri": "https://localhost:8080/",
          "height": 34
        }
      },
      "source": [
        "cd gdrive/My\\ Drive/"
      ],
      "execution_count": 7,
      "outputs": [
        {
          "output_type": "stream",
          "text": [
            "/content/gdrive/My Drive\n"
          ],
          "name": "stdout"
        }
      ]
    },
    {
      "cell_type": "code",
      "metadata": {
        "id": "XG2msmUoJz8e",
        "colab_type": "code",
        "outputId": "7949ec0e-fa94-4a3f-9120-3ca9062a54c3",
        "colab": {
          "base_uri": "https://localhost:8080/",
          "height": 34
        }
      },
      "source": [
        "ls kaggle.json"
      ],
      "execution_count": 8,
      "outputs": [
        {
          "output_type": "stream",
          "text": [
            "kaggle.json\n"
          ],
          "name": "stdout"
        }
      ]
    },
    {
      "cell_type": "code",
      "metadata": {
        "id": "_rMEIGQoJ2a-",
        "colab_type": "code",
        "colab": {}
      },
      "source": [
        "!chmod 600 kaggle.json"
      ],
      "execution_count": 0,
      "outputs": []
    },
    {
      "cell_type": "code",
      "metadata": {
        "id": "Hc64WwAHJ5T0",
        "colab_type": "code",
        "colab": {}
      },
      "source": [
        "import json\n",
        "import os\n",
        "envs = json.load(open(\"kaggle.json\", \"r\"))\n",
        "os.environ[\"KAGGLE_USERNAME\"] = envs['username']\n",
        "os.environ[\"KAGGLE_KEY\"] = envs['key']"
      ],
      "execution_count": 0,
      "outputs": []
    },
    {
      "cell_type": "code",
      "metadata": {
        "id": "p924hUPgJ7su",
        "colab_type": "code",
        "outputId": "9702c0e6-fcbd-48ee-abb4-5136a7241d1c",
        "colab": {
          "base_uri": "https://localhost:8080/",
          "height": 85
        }
      },
      "source": [
        "!kaggle competitions list -s PLAsTiCC"
      ],
      "execution_count": 11,
      "outputs": [
        {
          "output_type": "stream",
          "text": [
            "Warning: Looks like you're using an outdated API Version, please consider updating (server 1.5.6 / client 1.5.4)\n",
            "ref            deadline             category   reward  teamCount  userHasEntered  \n",
            "-------------  -------------------  --------  -------  ---------  --------------  \n",
            "PLAsTiCC-2018  2018-12-17 23:59:00  Featured  $25,000       1094            True  \n"
          ],
          "name": "stdout"
        }
      ]
    },
    {
      "cell_type": "code",
      "metadata": {
        "id": "I_Wp5cvbJ91G",
        "colab_type": "code",
        "outputId": "c8695bcf-3008-43c9-9300-f4dfeb73424a",
        "colab": {
          "base_uri": "https://localhost:8080/",
          "height": 34
        }
      },
      "source": [
        "cd plasticc"
      ],
      "execution_count": 12,
      "outputs": [
        {
          "output_type": "stream",
          "text": [
            "/content/gdrive/My Drive/plasticc\n"
          ],
          "name": "stdout"
        }
      ]
    },
    {
      "cell_type": "code",
      "metadata": {
        "id": "Nm3VGgecKAX3",
        "colab_type": "code",
        "outputId": "f5358bbe-4720-4b65-e484-c37abd97b1a0",
        "colab": {
          "base_uri": "https://localhost:8080/",
          "height": 34
        }
      },
      "source": [
        "cd data"
      ],
      "execution_count": 13,
      "outputs": [
        {
          "output_type": "stream",
          "text": [
            "/content/gdrive/My Drive/plasticc/data\n"
          ],
          "name": "stdout"
        }
      ]
    },
    {
      "cell_type": "code",
      "metadata": {
        "id": "DmrpcPocKFgG",
        "colab_type": "code",
        "outputId": "0427416b-4053-4b9b-d584-60551acbdeef",
        "colab": {
          "base_uri": "https://localhost:8080/",
          "height": 340
        }
      },
      "source": [
        "#!kaggle competitions download PLAsTiCC-2018"
      ],
      "execution_count": 14,
      "outputs": [
        {
          "output_type": "stream",
          "text": [
            "Warning: Looks like you're using an outdated API Version, please consider updating (server 1.5.6 / client 1.5.4)\n",
            "test_set_batch7.csv.zip: Skipping, found more recently modified local copy (use --force to force download)\n",
            "test_set_batch11.csv.zip: Skipping, found more recently modified local copy (use --force to force download)\n",
            "sample_submission.csv.zip: Skipping, found more recently modified local copy (use --force to force download)\n",
            "training_set.csv.zip: Skipping, found more recently modified local copy (use --force to force download)\n",
            "test_set_batch5.csv.zip: Skipping, found more recently modified local copy (use --force to force download)\n",
            "data_note.pdf.zip: Skipping, found more recently modified local copy (use --force to force download)\n",
            "test_set_batch3.csv.zip: Skipping, found more recently modified local copy (use --force to force download)\n",
            "test_set_batch2.csv.zip: Skipping, found more recently modified local copy (use --force to force download)\n",
            "training_set_metadata.csv: Skipping, found more recently modified local copy (use --force to force download)\n",
            "test_set.csv.zip: Skipping, found more recently modified local copy (use --force to force download)\n",
            "test_set_batch4.csv.zip: Skipping, found more recently modified local copy (use --force to force download)\n",
            "test_set_batch8.csv.zip: Skipping, found more recently modified local copy (use --force to force download)\n",
            "test_set_batch1.csv.zip: Skipping, found more recently modified local copy (use --force to force download)\n",
            "test_set_batch9.csv.zip: Skipping, found more recently modified local copy (use --force to force download)\n",
            "test_set_metadata.csv.zip: Skipping, found more recently modified local copy (use --force to force download)\n",
            "test_set_sample.csv.zip: Skipping, found more recently modified local copy (use --force to force download)\n",
            "test_set_batch6.csv.zip: Skipping, found more recently modified local copy (use --force to force download)\n",
            "test_set_batch10.csv.zip: Skipping, found more recently modified local copy (use --force to force download)\n"
          ],
          "name": "stdout"
        }
      ]
    },
    {
      "cell_type": "code",
      "metadata": {
        "id": "ooVQ6JnIKH3H",
        "colab_type": "code",
        "outputId": "382c2423-4bbf-4308-df38-4a97d0eff253",
        "colab": {
          "base_uri": "https://localhost:8080/",
          "height": 153
        }
      },
      "source": [
        "ls"
      ],
      "execution_count": 15,
      "outputs": [
        {
          "output_type": "stream",
          "text": [
            "allfeatures                test_set_batch2.csv.zip  test_set.csv.zip\n",
            "allfeatures.npy            test_set_batch3.csv.zip  test_set_metadata.csv.zip\n",
            "data_note.pdf.zip          test_set_batch4.csv.zip  test_set_sample.csv.zip\n",
            "metadata                   test_set_batch5.csv.zip  training_set.csv\n",
            "sample_submission.csv.zip  test_set_batch6.csv.zip  training_set.csv.zip\n",
            "test_set_batch10.csv.zip   test_set_batch7.csv.zip  training_set_metadata.csv\n",
            "test_set_batch11.csv.zip   test_set_batch8.csv.zip\n",
            "test_set_batch1.csv.zip    test_set_batch9.csv.zip\n"
          ],
          "name": "stdout"
        }
      ]
    },
    {
      "cell_type": "code",
      "metadata": {
        "id": "kTLtUQr1KNfZ",
        "colab_type": "code",
        "outputId": "59a932bc-2606-40ba-f2f6-da203d979eab",
        "colab": {
          "base_uri": "https://localhost:8080/",
          "height": 68
        }
      },
      "source": [
        "!unzip training_set.csv.zip"
      ],
      "execution_count": 16,
      "outputs": [
        {
          "output_type": "stream",
          "text": [
            "Archive:  training_set.csv.zip\n",
            "replace training_set.csv? [y]es, [n]o, [A]ll, [N]one, [r]ename: A\n",
            "  inflating: training_set.csv        \n"
          ],
          "name": "stdout"
        }
      ]
    },
    {
      "cell_type": "code",
      "metadata": {
        "id": "fXSZaLGzKWd-",
        "colab_type": "code",
        "outputId": "febc1f93-aff3-473a-8a21-24156bba3221",
        "colab": {
          "base_uri": "https://localhost:8080/",
          "height": 204
        }
      },
      "source": [
        "lcvs = pd.read_csv('training_set.csv')\n",
        "lcvs.head()"
      ],
      "execution_count": 17,
      "outputs": [
        {
          "output_type": "execute_result",
          "data": {
            "text/html": [
              "<div>\n",
              "<style scoped>\n",
              "    .dataframe tbody tr th:only-of-type {\n",
              "        vertical-align: middle;\n",
              "    }\n",
              "\n",
              "    .dataframe tbody tr th {\n",
              "        vertical-align: top;\n",
              "    }\n",
              "\n",
              "    .dataframe thead th {\n",
              "        text-align: right;\n",
              "    }\n",
              "</style>\n",
              "<table border=\"1\" class=\"dataframe\">\n",
              "  <thead>\n",
              "    <tr style=\"text-align: right;\">\n",
              "      <th></th>\n",
              "      <th>object_id</th>\n",
              "      <th>mjd</th>\n",
              "      <th>passband</th>\n",
              "      <th>flux</th>\n",
              "      <th>flux_err</th>\n",
              "      <th>detected</th>\n",
              "    </tr>\n",
              "  </thead>\n",
              "  <tbody>\n",
              "    <tr>\n",
              "      <th>0</th>\n",
              "      <td>615</td>\n",
              "      <td>59750.4229</td>\n",
              "      <td>2</td>\n",
              "      <td>-544.810303</td>\n",
              "      <td>3.622952</td>\n",
              "      <td>1</td>\n",
              "    </tr>\n",
              "    <tr>\n",
              "      <th>1</th>\n",
              "      <td>615</td>\n",
              "      <td>59750.4306</td>\n",
              "      <td>1</td>\n",
              "      <td>-816.434326</td>\n",
              "      <td>5.553370</td>\n",
              "      <td>1</td>\n",
              "    </tr>\n",
              "    <tr>\n",
              "      <th>2</th>\n",
              "      <td>615</td>\n",
              "      <td>59750.4383</td>\n",
              "      <td>3</td>\n",
              "      <td>-471.385529</td>\n",
              "      <td>3.801213</td>\n",
              "      <td>1</td>\n",
              "    </tr>\n",
              "    <tr>\n",
              "      <th>3</th>\n",
              "      <td>615</td>\n",
              "      <td>59750.4450</td>\n",
              "      <td>4</td>\n",
              "      <td>-388.984985</td>\n",
              "      <td>11.395031</td>\n",
              "      <td>1</td>\n",
              "    </tr>\n",
              "    <tr>\n",
              "      <th>4</th>\n",
              "      <td>615</td>\n",
              "      <td>59752.4070</td>\n",
              "      <td>2</td>\n",
              "      <td>-681.858887</td>\n",
              "      <td>4.041204</td>\n",
              "      <td>1</td>\n",
              "    </tr>\n",
              "  </tbody>\n",
              "</table>\n",
              "</div>"
            ],
            "text/plain": [
              "   object_id         mjd  passband        flux   flux_err  detected\n",
              "0        615  59750.4229         2 -544.810303   3.622952         1\n",
              "1        615  59750.4306         1 -816.434326   5.553370         1\n",
              "2        615  59750.4383         3 -471.385529   3.801213         1\n",
              "3        615  59750.4450         4 -388.984985  11.395031         1\n",
              "4        615  59752.4070         2 -681.858887   4.041204         1"
            ]
          },
          "metadata": {
            "tags": []
          },
          "execution_count": 17
        }
      ]
    },
    {
      "cell_type": "code",
      "metadata": {
        "id": "W7_UlDkc6eil",
        "colab_type": "code",
        "colab": {
          "base_uri": "https://localhost:8080/",
          "height": 450
        },
        "outputId": "69c54903-fa64-4fcc-edd1-72efeed81904"
      },
      "source": [
        "starts = lcvs.groupby([\"object_id\"])[[\"mjd\"]].min()\n",
        "starts"
      ],
      "execution_count": 66,
      "outputs": [
        {
          "output_type": "execute_result",
          "data": {
            "text/html": [
              "<div>\n",
              "<style scoped>\n",
              "    .dataframe tbody tr th:only-of-type {\n",
              "        vertical-align: middle;\n",
              "    }\n",
              "\n",
              "    .dataframe tbody tr th {\n",
              "        vertical-align: top;\n",
              "    }\n",
              "\n",
              "    .dataframe thead th {\n",
              "        text-align: right;\n",
              "    }\n",
              "</style>\n",
              "<table border=\"1\" class=\"dataframe\">\n",
              "  <thead>\n",
              "    <tr style=\"text-align: right;\">\n",
              "      <th></th>\n",
              "      <th>mjd</th>\n",
              "    </tr>\n",
              "    <tr>\n",
              "      <th>object_id</th>\n",
              "      <th></th>\n",
              "    </tr>\n",
              "  </thead>\n",
              "  <tbody>\n",
              "    <tr>\n",
              "      <th>615</th>\n",
              "      <td>59750.4229</td>\n",
              "    </tr>\n",
              "    <tr>\n",
              "      <th>713</th>\n",
              "      <td>59825.2600</td>\n",
              "    </tr>\n",
              "    <tr>\n",
              "      <th>730</th>\n",
              "      <td>59798.3205</td>\n",
              "    </tr>\n",
              "    <tr>\n",
              "      <th>745</th>\n",
              "      <td>59770.3662</td>\n",
              "    </tr>\n",
              "    <tr>\n",
              "      <th>1124</th>\n",
              "      <td>59750.4229</td>\n",
              "    </tr>\n",
              "    <tr>\n",
              "      <th>...</th>\n",
              "      <td>...</td>\n",
              "    </tr>\n",
              "    <tr>\n",
              "      <th>130739978</th>\n",
              "      <td>59790.3778</td>\n",
              "    </tr>\n",
              "    <tr>\n",
              "      <th>130755807</th>\n",
              "      <td>59581.3605</td>\n",
              "    </tr>\n",
              "    <tr>\n",
              "      <th>130762946</th>\n",
              "      <td>59620.2130</td>\n",
              "    </tr>\n",
              "    <tr>\n",
              "      <th>130772921</th>\n",
              "      <td>59583.1166</td>\n",
              "    </tr>\n",
              "    <tr>\n",
              "      <th>130779836</th>\n",
              "      <td>59710.4130</td>\n",
              "    </tr>\n",
              "  </tbody>\n",
              "</table>\n",
              "<p>7848 rows × 1 columns</p>\n",
              "</div>"
            ],
            "text/plain": [
              "                  mjd\n",
              "object_id            \n",
              "615        59750.4229\n",
              "713        59825.2600\n",
              "730        59798.3205\n",
              "745        59770.3662\n",
              "1124       59750.4229\n",
              "...               ...\n",
              "130739978  59790.3778\n",
              "130755807  59581.3605\n",
              "130762946  59620.2130\n",
              "130772921  59583.1166\n",
              "130779836  59710.4130\n",
              "\n",
              "[7848 rows x 1 columns]"
            ]
          },
          "metadata": {
            "tags": []
          },
          "execution_count": 66
        }
      ]
    },
    {
      "cell_type": "code",
      "metadata": {
        "id": "gNlDu9Eaf9nP",
        "colab_type": "code",
        "colab": {
          "base_uri": "https://localhost:8080/",
          "height": 34
        },
        "outputId": "462d0e91-6d00-45ec-c1b6-4f5dd5245c38"
      },
      "source": [
        "starts['mjd'].loc[starts.index == 615].values[0]"
      ],
      "execution_count": 104,
      "outputs": [
        {
          "output_type": "execute_result",
          "data": {
            "text/plain": [
              "59750.4229"
            ]
          },
          "metadata": {
            "tags": []
          },
          "execution_count": 104
        }
      ]
    },
    {
      "cell_type": "code",
      "metadata": {
        "id": "kytMuqDylmSY",
        "colab_type": "code",
        "colab": {
          "base_uri": "https://localhost:8080/",
          "height": 34
        },
        "outputId": "2121b179-99c9-435d-ef30-507662915dbb"
      },
      "source": [
        "lcvs['object_id'].values[0]"
      ],
      "execution_count": 105,
      "outputs": [
        {
          "output_type": "execute_result",
          "data": {
            "text/plain": [
              "615"
            ]
          },
          "metadata": {
            "tags": []
          },
          "execution_count": 105
        }
      ]
    },
    {
      "cell_type": "markdown",
      "metadata": {
        "id": "5f85DeSgmQSg",
        "colab_type": "text"
      },
      "source": [
        "Create new domain where each object is time indexed with its first observation being zero"
      ]
    },
    {
      "cell_type": "code",
      "metadata": {
        "id": "lk4iK0PeLNGp",
        "colab_type": "code",
        "colab": {
          "base_uri": "https://localhost:8080/",
          "height": 51
        },
        "outputId": "aeada219-3c6e-49a5-ec8a-29a6aaf8e8e4"
      },
      "source": [
        "#Very stupid and expensive way to do this:\n",
        "\n",
        "mjd_new = np.zeros(lcvs.shape[0])\n",
        "\n",
        "for i, obj in enumerate(lcvs['object_id'].values):\n",
        "\n",
        "  if lcvs['mjd'][i] == starts['mjd'].loc[starts.index == obj].values[0]:\n",
        "    pass\n",
        "\n",
        "  else:\n",
        "    mjd_new[i] = lcvs['mjd'][i] - starts['mjd'].loc[starts.index == obj]\n",
        "\n",
        " \n",
        "mjd_new"
      ],
      "execution_count": 108,
      "outputs": [
        {
          "output_type": "execute_result",
          "data": {
            "text/plain": [
              "array([0.000000e+00, 7.700000e-03, 1.540000e-02, ..., 8.606095e+02,\n",
              "       8.755844e+02, 8.776242e+02])"
            ]
          },
          "metadata": {
            "tags": []
          },
          "execution_count": 108
        }
      ]
    },
    {
      "cell_type": "code",
      "metadata": {
        "id": "bSeK7DPM3jOz",
        "colab_type": "code",
        "colab": {
          "base_uri": "https://localhost:8080/",
          "height": 204
        },
        "outputId": "466487da-958e-4478-be97-7c163ea77112"
      },
      "source": [
        "lcvs['mjd_new'] = mjd_new\n",
        "lcvs.head()"
      ],
      "execution_count": 109,
      "outputs": [
        {
          "output_type": "execute_result",
          "data": {
            "text/html": [
              "<div>\n",
              "<style scoped>\n",
              "    .dataframe tbody tr th:only-of-type {\n",
              "        vertical-align: middle;\n",
              "    }\n",
              "\n",
              "    .dataframe tbody tr th {\n",
              "        vertical-align: top;\n",
              "    }\n",
              "\n",
              "    .dataframe thead th {\n",
              "        text-align: right;\n",
              "    }\n",
              "</style>\n",
              "<table border=\"1\" class=\"dataframe\">\n",
              "  <thead>\n",
              "    <tr style=\"text-align: right;\">\n",
              "      <th></th>\n",
              "      <th>object_id</th>\n",
              "      <th>mjd</th>\n",
              "      <th>passband</th>\n",
              "      <th>flux</th>\n",
              "      <th>flux_err</th>\n",
              "      <th>detected</th>\n",
              "      <th>mjd_new</th>\n",
              "    </tr>\n",
              "  </thead>\n",
              "  <tbody>\n",
              "    <tr>\n",
              "      <th>0</th>\n",
              "      <td>615</td>\n",
              "      <td>59750.4229</td>\n",
              "      <td>2</td>\n",
              "      <td>-544.810303</td>\n",
              "      <td>3.622952</td>\n",
              "      <td>1</td>\n",
              "      <td>0.0000</td>\n",
              "    </tr>\n",
              "    <tr>\n",
              "      <th>1</th>\n",
              "      <td>615</td>\n",
              "      <td>59750.4306</td>\n",
              "      <td>1</td>\n",
              "      <td>-816.434326</td>\n",
              "      <td>5.553370</td>\n",
              "      <td>1</td>\n",
              "      <td>0.0077</td>\n",
              "    </tr>\n",
              "    <tr>\n",
              "      <th>2</th>\n",
              "      <td>615</td>\n",
              "      <td>59750.4383</td>\n",
              "      <td>3</td>\n",
              "      <td>-471.385529</td>\n",
              "      <td>3.801213</td>\n",
              "      <td>1</td>\n",
              "      <td>0.0154</td>\n",
              "    </tr>\n",
              "    <tr>\n",
              "      <th>3</th>\n",
              "      <td>615</td>\n",
              "      <td>59750.4450</td>\n",
              "      <td>4</td>\n",
              "      <td>-388.984985</td>\n",
              "      <td>11.395031</td>\n",
              "      <td>1</td>\n",
              "      <td>0.0221</td>\n",
              "    </tr>\n",
              "    <tr>\n",
              "      <th>4</th>\n",
              "      <td>615</td>\n",
              "      <td>59752.4070</td>\n",
              "      <td>2</td>\n",
              "      <td>-681.858887</td>\n",
              "      <td>4.041204</td>\n",
              "      <td>1</td>\n",
              "      <td>1.9841</td>\n",
              "    </tr>\n",
              "  </tbody>\n",
              "</table>\n",
              "</div>"
            ],
            "text/plain": [
              "   object_id         mjd  passband        flux   flux_err  detected  mjd_new\n",
              "0        615  59750.4229         2 -544.810303   3.622952         1   0.0000\n",
              "1        615  59750.4306         1 -816.434326   5.553370         1   0.0077\n",
              "2        615  59750.4383         3 -471.385529   3.801213         1   0.0154\n",
              "3        615  59750.4450         4 -388.984985  11.395031         1   0.0221\n",
              "4        615  59752.4070         2 -681.858887   4.041204         1   1.9841"
            ]
          },
          "metadata": {
            "tags": []
          },
          "execution_count": 109
        }
      ]
    },
    {
      "cell_type": "code",
      "metadata": {
        "id": "lsqxQzfIguP0",
        "colab_type": "code",
        "colab": {}
      },
      "source": [
        "lcvs.to_pickle('lcvs.pkl')"
      ],
      "execution_count": 0,
      "outputs": []
    },
    {
      "cell_type": "code",
      "metadata": {
        "id": "P0AgApgsr_16",
        "colab_type": "code",
        "colab": {
          "base_uri": "https://localhost:8080/",
          "height": 204
        },
        "outputId": "31bebb04-15cd-49f3-8071-1457b09c9010"
      },
      "source": [
        "lcvs_p1 = lcvs.loc[lcvs['passband'].values == 1]\n",
        "lcvs_p1.head()"
      ],
      "execution_count": 119,
      "outputs": [
        {
          "output_type": "execute_result",
          "data": {
            "text/html": [
              "<div>\n",
              "<style scoped>\n",
              "    .dataframe tbody tr th:only-of-type {\n",
              "        vertical-align: middle;\n",
              "    }\n",
              "\n",
              "    .dataframe tbody tr th {\n",
              "        vertical-align: top;\n",
              "    }\n",
              "\n",
              "    .dataframe thead th {\n",
              "        text-align: right;\n",
              "    }\n",
              "</style>\n",
              "<table border=\"1\" class=\"dataframe\">\n",
              "  <thead>\n",
              "    <tr style=\"text-align: right;\">\n",
              "      <th></th>\n",
              "      <th>object_id</th>\n",
              "      <th>mjd</th>\n",
              "      <th>passband</th>\n",
              "      <th>flux</th>\n",
              "      <th>flux_err</th>\n",
              "      <th>detected</th>\n",
              "      <th>mjd_new</th>\n",
              "    </tr>\n",
              "  </thead>\n",
              "  <tbody>\n",
              "    <tr>\n",
              "      <th>1</th>\n",
              "      <td>615</td>\n",
              "      <td>59750.4306</td>\n",
              "      <td>1</td>\n",
              "      <td>-816.434326</td>\n",
              "      <td>5.553370</td>\n",
              "      <td>1</td>\n",
              "      <td>0.0077</td>\n",
              "    </tr>\n",
              "    <tr>\n",
              "      <th>5</th>\n",
              "      <td>615</td>\n",
              "      <td>59752.4147</td>\n",
              "      <td>1</td>\n",
              "      <td>-1061.457031</td>\n",
              "      <td>6.472994</td>\n",
              "      <td>1</td>\n",
              "      <td>1.9918</td>\n",
              "    </tr>\n",
              "    <tr>\n",
              "      <th>10</th>\n",
              "      <td>615</td>\n",
              "      <td>59767.3045</td>\n",
              "      <td>1</td>\n",
              "      <td>-815.188599</td>\n",
              "      <td>5.293019</td>\n",
              "      <td>1</td>\n",
              "      <td>16.8816</td>\n",
              "    </tr>\n",
              "    <tr>\n",
              "      <th>15</th>\n",
              "      <td>615</td>\n",
              "      <td>59770.2256</td>\n",
              "      <td>1</td>\n",
              "      <td>-820.042786</td>\n",
              "      <td>5.875329</td>\n",
              "      <td>1</td>\n",
              "      <td>19.8027</td>\n",
              "    </tr>\n",
              "    <tr>\n",
              "      <th>20</th>\n",
              "      <td>615</td>\n",
              "      <td>59779.3265</td>\n",
              "      <td>1</td>\n",
              "      <td>-921.002502</td>\n",
              "      <td>6.306800</td>\n",
              "      <td>1</td>\n",
              "      <td>28.9036</td>\n",
              "    </tr>\n",
              "  </tbody>\n",
              "</table>\n",
              "</div>"
            ],
            "text/plain": [
              "    object_id         mjd  passband         flux  flux_err  detected  mjd_new\n",
              "1         615  59750.4306         1  -816.434326  5.553370         1   0.0077\n",
              "5         615  59752.4147         1 -1061.457031  6.472994         1   1.9918\n",
              "10        615  59767.3045         1  -815.188599  5.293019         1  16.8816\n",
              "15        615  59770.2256         1  -820.042786  5.875329         1  19.8027\n",
              "20        615  59779.3265         1  -921.002502  6.306800         1  28.9036"
            ]
          },
          "metadata": {
            "tags": []
          },
          "execution_count": 119
        }
      ]
    },
    {
      "cell_type": "code",
      "metadata": {
        "id": "XGmGFjUBuKBz",
        "colab_type": "code",
        "colab": {
          "base_uri": "https://localhost:8080/",
          "height": 204
        },
        "outputId": "49aa779f-cfef-4e2f-87f0-60d911621ae3"
      },
      "source": [
        "lcvs_p1.tail()"
      ],
      "execution_count": 125,
      "outputs": [
        {
          "output_type": "execute_result",
          "data": {
            "text/html": [
              "<div>\n",
              "<style scoped>\n",
              "    .dataframe tbody tr th:only-of-type {\n",
              "        vertical-align: middle;\n",
              "    }\n",
              "\n",
              "    .dataframe tbody tr th {\n",
              "        vertical-align: top;\n",
              "    }\n",
              "\n",
              "    .dataframe thead th {\n",
              "        text-align: right;\n",
              "    }\n",
              "</style>\n",
              "<table border=\"1\" class=\"dataframe\">\n",
              "  <thead>\n",
              "    <tr style=\"text-align: right;\">\n",
              "      <th></th>\n",
              "      <th>object_id</th>\n",
              "      <th>mjd</th>\n",
              "      <th>passband</th>\n",
              "      <th>flux</th>\n",
              "      <th>flux_err</th>\n",
              "      <th>detected</th>\n",
              "      <th>mjd_new</th>\n",
              "    </tr>\n",
              "  </thead>\n",
              "  <tbody>\n",
              "    <tr>\n",
              "      <th>1421652</th>\n",
              "      <td>130779836</td>\n",
              "      <td>60177.0336</td>\n",
              "      <td>1</td>\n",
              "      <td>54.425945</td>\n",
              "      <td>19.356459</td>\n",
              "      <td>0</td>\n",
              "      <td>466.6206</td>\n",
              "    </tr>\n",
              "    <tr>\n",
              "      <th>1421668</th>\n",
              "      <td>130779836</td>\n",
              "      <td>60434.3008</td>\n",
              "      <td>1</td>\n",
              "      <td>-34.273514</td>\n",
              "      <td>19.637548</td>\n",
              "      <td>0</td>\n",
              "      <td>723.8878</td>\n",
              "    </tr>\n",
              "    <tr>\n",
              "      <th>1421678</th>\n",
              "      <td>130779836</td>\n",
              "      <td>60491.1907</td>\n",
              "      <td>1</td>\n",
              "      <td>-13.734149</td>\n",
              "      <td>19.639900</td>\n",
              "      <td>0</td>\n",
              "      <td>780.7777</td>\n",
              "    </tr>\n",
              "    <tr>\n",
              "      <th>1421692</th>\n",
              "      <td>130779836</td>\n",
              "      <td>60530.0978</td>\n",
              "      <td>1</td>\n",
              "      <td>2.986908</td>\n",
              "      <td>19.109673</td>\n",
              "      <td>0</td>\n",
              "      <td>819.6848</td>\n",
              "    </tr>\n",
              "    <tr>\n",
              "      <th>1421701</th>\n",
              "      <td>130779836</td>\n",
              "      <td>60560.0459</td>\n",
              "      <td>1</td>\n",
              "      <td>14.894439</td>\n",
              "      <td>18.947685</td>\n",
              "      <td>0</td>\n",
              "      <td>849.6329</td>\n",
              "    </tr>\n",
              "  </tbody>\n",
              "</table>\n",
              "</div>"
            ],
            "text/plain": [
              "         object_id         mjd  passband  ...   flux_err  detected   mjd_new\n",
              "1421652  130779836  60177.0336         1  ...  19.356459         0  466.6206\n",
              "1421668  130779836  60434.3008         1  ...  19.637548         0  723.8878\n",
              "1421678  130779836  60491.1907         1  ...  19.639900         0  780.7777\n",
              "1421692  130779836  60530.0978         1  ...  19.109673         0  819.6848\n",
              "1421701  130779836  60560.0459         1  ...  18.947685         0  849.6329\n",
              "\n",
              "[5 rows x 7 columns]"
            ]
          },
          "metadata": {
            "tags": []
          },
          "execution_count": 125
        }
      ]
    },
    {
      "cell_type": "markdown",
      "metadata": {
        "id": "bu3PKHykqhWj",
        "colab_type": "text"
      },
      "source": [
        "Flatten time series"
      ]
    },
    {
      "cell_type": "code",
      "metadata": {
        "id": "GbctvM5rg9uO",
        "colab_type": "code",
        "colab": {}
      },
      "source": [
        "lcvsp1_flat = np.concatenate((lcvs_p1['mjd_new'].values, lcvs_p1['flux'].values))#This vector gets fed to autoencoder"
      ],
      "execution_count": 0,
      "outputs": []
    },
    {
      "cell_type": "code",
      "metadata": {
        "id": "dDvSQTufrDqa",
        "colab_type": "code",
        "colab": {
          "base_uri": "https://localhost:8080/",
          "height": 51
        },
        "outputId": "10441057-a8ad-4a21-94fc-315593514b62"
      },
      "source": [
        "lcvsp1_flat"
      ],
      "execution_count": 124,
      "outputs": [
        {
          "output_type": "execute_result",
          "data": {
            "text/plain": [
              "array([ 7.7000000e-03,  1.9918000e+00,  1.6881600e+01, ...,\n",
              "       -1.3734149e+01,  2.9869080e+00,  1.4894439e+01])"
            ]
          },
          "metadata": {
            "tags": []
          },
          "execution_count": 124
        }
      ]
    },
    {
      "cell_type": "code",
      "metadata": {
        "id": "F0Szsc8Csx2R",
        "colab_type": "code",
        "colab": {}
      },
      "source": [
        ""
      ],
      "execution_count": 0,
      "outputs": []
    }
  ]
}